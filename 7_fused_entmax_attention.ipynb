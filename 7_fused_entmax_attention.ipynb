{
 "cells": [
  {
   "cell_type": "code",
   "execution_count": 2,
   "id": "900327eb",
   "metadata": {},
   "outputs": [],
   "source": [
    "import torch\n",
    "import triton\n",
    "import triton.language as tl\n",
    "from entmax import entmax_bisect\n"
   ]
  },
  {
   "cell_type": "markdown",
   "id": "925a1804",
   "metadata": {},
   "source": [
    "### Goal: Implement entmax bisection in Triton\n",
    "\n",
    "Entmax mapping is given by:\n",
    "$$\n",
    "\\alpha\\text{-entmax}_i(x_i) = [(\\alpha - 1)x_i - \\tau]_+^{\\frac{1}{\\alpha-1}} \n",
    "$$\n",
    "\n",
    "Thus, for one to calculate entmax, one requires to find $\\tau$ that satistfies $\\sum_i [(\\alpha - 1)x_i - \\tau]_+^{\\frac{1}{\\alpha-1}} = 1$, that is, that satisfies that the sum of all entries sums to one.\n",
    "\n",
    "Thus let the define the function f($\\tau$) for which we are trying to find the root for:\n",
    "$$\n",
    "f(\\tau) = \\sum_i [(\\alpha - 1)x_i - \\tau]_+^{\\frac{1}{\\alpha-1}} - 1\n",
    "$$\n",
    "\n",
    "Currently, in the entmax package (pip install entmax) the algorithm to calculate this $\\tau$ makes use of the bisection algorithm. Thus, a high-level description of the algorithm goes like this:\n",
    "\n",
    "$$\n",
    "\\begin{align*}\n",
    "\\text{Input: }& x \\in \\mathbb{R}^n, \\alpha \\in \\mathbb{R}, T \\text{ iterations} \\\\\n",
    "\\text{(1): }& \\max \\leftarrow \\max(x) \\\\ \n",
    "\\text{(2): }& \\text{Initialize } \\tau_\\text{lo} = \\max - 1,\\tau_\\text{hi} = \\max - n^{1-\\alpha}, \\tau = \\frac{\\tau_\\text{lo} + \\tau_\\text{hi}}{2} \\\\\n",
    "\\text{(3): }& \\text{For t in T iteraions do:} \\\\\n",
    "&\\quad\\text{Compute } f(\\tau) \\\\\n",
    "&\\quad\\text{If } f(\\tau) > 0: \\tau_\\text{lo} = \\tau \\text{ else } \\tau_\\text{hi} = \\tau \\\\\n",
    "&\\quad\\tau \\leftarrow \\frac{\\tau_\\text{lo} + \\tau_\\text{hi}}{2} \\\\\n",
    "\\text{(4): }& \\text{Store element-wise }  [(\\alpha - 1)x_i - \\tau]_+^{\\frac{1}{\\alpha-1}} \\\\\n",
    "\\end{align*}\n",
    "$$"
   ]
  },
  {
   "cell_type": "markdown",
   "id": "d8a2b65c",
   "metadata": {},
   "source": [
    "## Step 1: Compute maximum."
   ]
  },
  {
   "cell_type": "code",
   "execution_count": null,
   "id": "06a4a466",
   "metadata": {},
   "outputs": [],
   "source": [
    "@triton.jit\n",
    "def _ent_bisect(x_ptr, y_ptr, alpha, n_iter, N: tl.constexpr, TILE: tl.constexpr):\n",
    "    \n",
    "    # same as torch.arange\n",
    "    offsets = tl.arange(0, TILE)\n",
    "\n",
    "    # placeholder for max value\n",
    "    max_val = -1.0e3\n",
    "\n",
    "    for idx in range(0, N, TILE):\n",
    "        # compute pointers for the current tile\n",
    "        x_ptrs = (x_ptr + idx) + offsets\n",
    "\n",
    "        # load TILE elements of X\n",
    "        x = tl.load(x_ptrs)\n",
    "\n",
    "        # update max value\n",
    "        max_val = tl.maximum(max_val, tl.max(x))\n",
    "\n",
    "    max_val *= (alpha - 1.0)\n",
    "\n",
    "\n",
    "def run_entmax_triton(x, y, alpha=1.5, n_iter=50):\n",
    "    TILE = 1024\n",
    "    _ent_bisect[(1,)](x, y, alpha, n_iter, x.size(0), TILE)"
   ]
  },
  {
   "cell_type": "markdown",
   "id": "15d2df48",
   "metadata": {},
   "source": [
    "## Step 2: Compute $\\tau$ using bisection."
   ]
  },
  {
   "cell_type": "code",
   "execution_count": null,
   "id": "265e08ed",
   "metadata": {},
   "outputs": [],
   "source": [
    "@triton.jit\n",
    "def alpha_entmax(x, tau, alpha):\n",
    "    x = (alpha - 1) * x - tau\n",
    "    x = tl.where(x > 0, tl.exp2(1 / (alpha - 1) * tl.log2(x)), 0.0)\n",
    "    return x\n",
    "\n",
    "\n",
    "@triton.jit\n",
    "def _ent_bisect(x_ptr, y_ptr, alpha, n_iter, N: tl.constexpr, TILE: tl.constexpr):\n",
    "    \n",
    "    # same as torch.arange\n",
    "    offsets = tl.arange(0, TILE)\n",
    "\n",
    "    # placeholder for max value\n",
    "    max_val = -1.0e3\n",
    "\n",
    "    for idx in range(0, N, TILE):\n",
    "        # compute pointers for the current tile\n",
    "        x_ptrs = (x_ptr + idx) + offsets\n",
    "\n",
    "        # load TILE elements of X\n",
    "        x = tl.load(x_ptrs)\n",
    "\n",
    "        # update max value\n",
    "        max_val = tl.maximum(max_val, tl.max(x))\n",
    "\n",
    "    max_val *= (alpha - 1.0)\n",
    "\n",
    "    # initialize tau bounds\n",
    "    tau_lower = max_val - 1.0\n",
    "    tau_upper = max_val - tl.exp2((1-alpha) * tl.log2(1.0*N))\n",
    "    tau = (tau_lower + tau_upper) / 2.0\n",
    "    \n",
    "    # bisection\n",
    "    for _ in range(n_iter):\n",
    "        f_tau = -1.0\n",
    "\n",
    "        for idx in range(0, N, TILE):\n",
    "            # compute pointers for the current tile\n",
    "            x_ptrs = (x_ptr + idx) + offsets\n",
    "\n",
    "            # load TILE elements of X\n",
    "            x = tl.load(x_ptrs)\n",
    "\n",
    "            # accumulate f(tau)\n",
    "            f_tau += tl.sum(alpha_entmax(x, tau, alpha))\n",
    "\n",
    "        # update tau bounds\n",
    "        if f_tau > 0:\n",
    "            tau_lower = tau\n",
    "        else:\n",
    "            tau_upper = tau\n",
    "        tau = (tau_lower + tau_upper) / 2.0\n",
    "\n",
    "\n",
    "def run_entmax_triton(x, y, alpha=1.5, n_iter=50):\n",
    "    TILE = 1024\n",
    "    _ent_bisect[(1,)](x, y, alpha, n_iter, x.size(0), TILE)"
   ]
  },
  {
   "cell_type": "markdown",
   "id": "fba8f3d2",
   "metadata": {},
   "source": [
    "# Step 3: Store the result."
   ]
  },
  {
   "cell_type": "code",
   "execution_count": 24,
   "id": "ade178a8",
   "metadata": {},
   "outputs": [],
   "source": [
    "@triton.jit\n",
    "def alpha_entmax(x, tau, alpha):\n",
    "    x = (alpha - 1) * x - tau\n",
    "    x = tl.where(x > 0, tl.exp2(1 / (alpha - 1) * tl.log2(x)), 0.0)\n",
    "    return x\n",
    "\n",
    "\n",
    "@triton.jit\n",
    "def _ent_bisect(x_ptr, y_ptr, alpha, n_iter, N: tl.constexpr, TILE: tl.constexpr):\n",
    "    \n",
    "    # same as torch.arange\n",
    "    offsets = tl.arange(0, TILE)\n",
    "\n",
    "    # placeholder for max value\n",
    "    max_val = -1.0e3\n",
    "\n",
    "    for idx in range(0, N, TILE):\n",
    "        # compute pointers for the current tile\n",
    "        x_ptrs = (x_ptr + idx) + offsets\n",
    "\n",
    "        # load TILE elements of X\n",
    "        x = tl.load(x_ptrs)\n",
    "\n",
    "        # update max value\n",
    "        max_val = tl.maximum(max_val, tl.max(x))\n",
    "\n",
    "    max_val *= (alpha - 1.0)\n",
    "\n",
    "    # initialize tau bounds\n",
    "    tau_lower = max_val - 1.0\n",
    "    tau_upper = max_val - tl.exp2((1-alpha) * tl.log2(1.0*N))\n",
    "    tau = (tau_lower + tau_upper) / 2.0\n",
    "    \n",
    "    # bisection\n",
    "    for _ in range(n_iter):\n",
    "        f_tau = -1.0\n",
    "\n",
    "        for idx in range(0, N, TILE):\n",
    "            # compute pointers for the current tile\n",
    "            x_ptrs = (x_ptr + idx) + offsets\n",
    "\n",
    "            # load TILE elements of X\n",
    "            x = tl.load(x_ptrs)\n",
    "\n",
    "            # accumulate f(tau)\n",
    "            f_tau += tl.sum(alpha_entmax(x, tau, alpha))\n",
    "\n",
    "        # update tau bounds\n",
    "        if f_tau > 0:\n",
    "            tau_lower = tau\n",
    "        else:\n",
    "            tau_upper = tau\n",
    "        tau = (tau_lower + tau_upper) / 2.0\n",
    "\n",
    "\n",
    "    for idx in range(0, N, TILE):\n",
    "            # compute pointers for the current tile\n",
    "            x_ptrs = (x_ptr + idx) + offsets\n",
    "            y_ptrs = (y_ptr + idx) + offsets\n",
    "\n",
    "            # load TILE elements of X\n",
    "            x = tl.load(x_ptrs)\n",
    "\n",
    "            # compute entmax for this TILE\n",
    "            y = alpha_entmax(x, tau, alpha)\n",
    "\n",
    "            # store results\n",
    "            tl.store(y_ptrs, y)\n",
    "\n",
    "def run_entmax_triton(x, y, alpha=1.5, n_iter=50):\n",
    "    TILE = 1024\n",
    "    _ent_bisect[(1,)](x, y, alpha, n_iter, x.size(0), TILE)"
   ]
  },
  {
   "cell_type": "code",
   "execution_count": 25,
   "id": "4e14fe4d",
   "metadata": {},
   "outputs": [],
   "source": [
    "alpha = 1.2\n",
    "n_iter = 50\n",
    "\n",
    "x = torch.randn(2048, device='cuda', dtype=torch.float32)\n",
    "y = torch.empty_like(x, device='cuda', dtype=torch.float32)"
   ]
  },
  {
   "cell_type": "code",
   "execution_count": 26,
   "id": "ea5ab956",
   "metadata": {},
   "outputs": [
    {
     "data": {
      "text/plain": [
       "tensor([0.0000, 0.0000, 0.0001,  ..., 0.0000, 0.0000, 0.0000], device='cuda:0')"
      ]
     },
     "execution_count": 26,
     "metadata": {},
     "output_type": "execute_result"
    }
   ],
   "source": [
    "entmax_bisect(x, alpha=alpha, n_iter=n_iter, dim=0)"
   ]
  },
  {
   "cell_type": "code",
   "execution_count": 28,
   "id": "b8330bfd",
   "metadata": {},
   "outputs": [
    {
     "data": {
      "text/plain": [
       "tensor(2.2352e-08, device='cuda:0')"
      ]
     },
     "execution_count": 28,
     "metadata": {},
     "output_type": "execute_result"
    }
   ],
   "source": [
    "(y - entmax_bisect(x, alpha=alpha, n_iter=n_iter, dim=0)).abs().max()"
   ]
  },
  {
   "cell_type": "code",
   "execution_count": null,
   "id": "7736b221",
   "metadata": {},
   "outputs": [
    {
     "data": {
      "text/plain": [
       "(tensor(1., device='cuda:0'), tensor(1., device='cuda:0'))"
      ]
     },
     "execution_count": 29,
     "metadata": {},
     "output_type": "execute_result"
    }
   ],
   "source": [
    "y.sum()"
   ]
  },
  {
   "cell_type": "code",
   "execution_count": 60,
   "id": "08979fbb",
   "metadata": {},
   "outputs": [],
   "source": [
    "@triton.testing.perf_report(\n",
    "    triton.testing.Benchmark(\n",
    "        x_names=['size'], \n",
    "        x_vals=[4096, 8192, 16384],\n",
    "        line_arg='provider', \n",
    "        line_vals=['triton', 'torch'],  \n",
    "        line_names=['Triton', 'Torch'],\n",
    "        styles=[('blue', '-'), ('green', '--')], \n",
    "        ylabel='Time (ms)', \n",
    "        plot_name='entmax-perf',\n",
    "        args={},\n",
    "    ))\n",
    "\n",
    "\n",
    "\n",
    "def benchmark(size, provider):\n",
    "    alpha = 1.5\n",
    "    n_iter = 20\n",
    "    x = torch.rand(size, device=\"cuda\", dtype=torch.float32)\n",
    "    y = torch.empty(size, device=\"cuda\", dtype=torch.float32)\n",
    "\n",
    "    quantiles = [0.5, 0.2, 0.8]\n",
    "    if provider == 'torch':\n",
    "        ms, min_ms, max_ms = triton.testing.do_bench(lambda: entmax_bisect(x, n_iter=n_iter, dim=0), quantiles=quantiles, warmup=500, rep=1000)\n",
    "    if provider == 'triton':\n",
    "        ms, min_ms, max_ms = triton.testing.do_bench(lambda: run_entmax_triton(x, y, alpha=alpha, n_iter=n_iter), quantiles=quantiles, warmup=500, rep=1000)\n",
    "    return ms"
   ]
  },
  {
   "cell_type": "code",
   "execution_count": 61,
   "id": "5f930de1",
   "metadata": {},
   "outputs": [
    {
     "data": {
      "image/png": "[encoded data removed]",
      "text/plain": [
       "<Figure size 640x480 with 1 Axes>"
      ]
     },
     "metadata": {},
     "output_type": "display_data"
    },
    {
     "name": "stdout",
     "output_type": "stream",
     "text": [
      "entmax-perf:\n",
      "      size    Triton     Torch\n",
      "0   4096.0  0.051200  2.891264\n",
      "1   8192.0  0.073728  2.653184\n",
      "2  16384.0  0.143360  2.690048\n"
     ]
    }
   ],
   "source": [
    "benchmark.run(print_data=True, show_plots=True)"
   ]
  },
  {
   "cell_type": "code",
   "execution_count": 69,
   "id": "19748151",
   "metadata": {},
   "outputs": [],
   "source": [
    "@triton.jit\n",
    "def alpha_entmax(x, tau, alpha):\n",
    "    x = (alpha - 1) * x - tau\n",
    "    x = tl.where(x > 0, tl.exp2(1 / (alpha - 1) * tl.log2(x)), 0.0)\n",
    "    return x\n",
    "\n",
    "\n",
    "@triton.jit\n",
    "def _ent_bisect(x_ptr, y_ptr, alpha, n_iter, N: tl.constexpr, TILE: tl.constexpr):\n",
    "    # get row that this thread block will be responsible for\n",
    "    curr_row = tl.program_id(0)\n",
    "\n",
    "    # move pointers to the start of the input and output tensors\n",
    "    x_ptr += curr_row * N\n",
    "    y_ptr += curr_row * N\n",
    "    \n",
    "    # same as torch.arange\n",
    "    offsets = tl.arange(0, TILE)\n",
    "\n",
    "    # placeholder for max value\n",
    "    max_val = -1.0e3\n",
    "\n",
    "    for idx in range(0, N, TILE):\n",
    "        # compute pointers for the current tile\n",
    "        x_ptrs = (x_ptr + idx) + offsets\n",
    "\n",
    "        # load TILE elements of X\n",
    "        x = tl.load(x_ptrs)\n",
    "\n",
    "        # update max value\n",
    "        max_val = tl.maximum(max_val, tl.max(x))\n",
    "\n",
    "    max_val *= (alpha - 1.0)\n",
    "\n",
    "    # initialize tau bounds\n",
    "    tau_lower = max_val - 1.0\n",
    "    tau_upper = max_val - tl.exp2((1-alpha) * tl.log2(1.0*N))\n",
    "    tau = (tau_lower + tau_upper) / 2.0\n",
    "    \n",
    "    # bisection\n",
    "    for _ in range(n_iter):\n",
    "        f_tau = -1.0\n",
    "\n",
    "        for idx in range(0, N, TILE):\n",
    "            # compute pointers for the current tile\n",
    "            x_ptrs = (x_ptr + idx) + offsets\n",
    "\n",
    "            # load TILE elements of X\n",
    "            x = tl.load(x_ptrs)\n",
    "\n",
    "            # accumulate f(tau)\n",
    "            f_tau += tl.sum(alpha_entmax(x, tau, alpha))\n",
    "\n",
    "        # update tau bounds\n",
    "        if f_tau > 0:\n",
    "            tau_lower = tau\n",
    "        else:\n",
    "            tau_upper = tau\n",
    "        tau = (tau_lower + tau_upper) / 2.0\n",
    "\n",
    "\n",
    "    for idx in range(0, N, TILE):\n",
    "            # compute pointers for the current tile\n",
    "            x_ptrs = (x_ptr + idx) + offsets\n",
    "            y_ptrs = (y_ptr + idx) + offsets\n",
    "\n",
    "            # load TILE elements of X\n",
    "            x = tl.load(x_ptrs)\n",
    "\n",
    "            # compute entmax for this TILE\n",
    "            y = alpha_entmax(x, tau, alpha)\n",
    "\n",
    "            # store results\n",
    "            tl.store(y_ptrs, y)\n",
    "\n",
    "def run_entmax_triton(x, y, alpha=1.5, n_iter=50):\n",
    "    TILE = 1024\n",
    "    # launch with as many blocks as rows in x\n",
    "    rows, cols = x.shape\n",
    "    grid = (rows,)\n",
    "    _ent_bisect[grid](x, y, alpha, n_iter, cols, TILE)"
   ]
  },
  {
   "cell_type": "code",
   "execution_count": 70,
   "id": "6a2ab0ca",
   "metadata": {},
   "outputs": [],
   "source": [
    "alpha = 1.5\n",
    "n_iter = 50\n",
    "\n",
    "x = torch.randn((16, 2048), device='cuda', dtype=torch.float32).contiguous()\n",
    "y = torch.empty_like(x, device='cuda', dtype=torch.float32).contiguous()"
   ]
  },
  {
   "cell_type": "code",
   "execution_count": 71,
   "id": "45c58baf",
   "metadata": {},
   "outputs": [],
   "source": [
    "run_entmax_triton(x, y, alpha=alpha, n_iter=n_iter)"
   ]
  },
  {
   "cell_type": "code",
   "execution_count": 73,
   "id": "56e50b1d",
   "metadata": {},
   "outputs": [
    {
     "data": {
      "text/plain": [
       "tensor(1.7881e-07, device='cuda:0')"
      ]
     },
     "execution_count": 73,
     "metadata": {},
     "output_type": "execute_result"
    }
   ],
   "source": [
    "(y - entmax_bisect(x, alpha=alpha, n_iter=n_iter, dim=1)).abs().max()"
   ]
  },
  {
   "cell_type": "code",
   "execution_count": 74,
   "id": "6c3523b1",
   "metadata": {},
   "outputs": [
    {
     "data": {
      "text/plain": [
       "tensor([1.0000, 1.0000, 1.0000, 1.0000, 1.0000, 1.0000, 1.0000, 1.0000, 1.0000,\n",
       "        1.0000, 1.0000, 1.0000, 1.0000, 1.0000, 1.0000, 1.0000],\n",
       "       device='cuda:0')"
      ]
     },
     "execution_count": 74,
     "metadata": {},
     "output_type": "execute_result"
    }
   ],
   "source": [
    "y.sum(dim=-1)"
   ]
  },
  {
   "cell_type": "code",
   "execution_count": 75,
   "id": "83aa7a17",
   "metadata": {},
   "outputs": [],
   "source": [
    "@triton.testing.perf_report(\n",
    "    triton.testing.Benchmark(\n",
    "        x_names=['size'], \n",
    "        x_vals=[4096, 8192, 16384],\n",
    "        line_arg='provider', \n",
    "        line_vals=['triton', 'torch'],  \n",
    "        line_names=['Triton', 'Torch'],\n",
    "        styles=[('blue', '-'), ('green', '--')], \n",
    "        ylabel='Time (ms)', \n",
    "        plot_name='entmax-perf',\n",
    "        args={},\n",
    "    ))\n",
    "\n",
    "\n",
    "\n",
    "def benchmark(size, provider):\n",
    "    alpha = 1.5\n",
    "    n_iter = 20\n",
    "    x = torch.rand((256,size), device=\"cuda\", dtype=torch.float32)\n",
    "    y = torch.empty((256,size), device=\"cuda\", dtype=torch.float32)\n",
    "\n",
    "    quantiles = [0.5, 0.2, 0.8]\n",
    "    if provider == 'torch':\n",
    "        ms, min_ms, max_ms = triton.testing.do_bench(lambda: entmax_bisect(x, n_iter=n_iter, dim=0), quantiles=quantiles, warmup=500, rep=1000)\n",
    "    if provider == 'triton':\n",
    "        ms, min_ms, max_ms = triton.testing.do_bench(lambda: run_entmax_triton(x, y, alpha=alpha, n_iter=n_iter), quantiles=quantiles, warmup=500, rep=1000)\n",
    "    return ms"
   ]
  },
  {
   "cell_type": "code",
   "execution_count": 76,
   "id": "20e6557b",
   "metadata": {},
   "outputs": [
    {
     "data": {
      "image/png": "[encoded data removed]",
      "text/plain": [
       "<Figure size 640x480 with 1 Axes>"
      ]
     },
     "metadata": {},
     "output_type": "display_data"
    },
    {
     "name": "stdout",
     "output_type": "stream",
     "text": [
      "entmax-perf:\n",
      "      size     Triton       Torch\n",
      "0   4096.0   3.670016   42.532352\n",
      "1   8192.0  11.853824   83.594242\n",
      "2  16384.0  21.031937  131.547653\n"
     ]
    }
   ],
   "source": [
    "benchmark.run(print_data=True, show_plots=True)"
   ]
  },
  {
   "cell_type": "code",
   "execution_count": null,
   "id": "473a58a8",
   "metadata": {},
   "outputs": [],
   "source": [
    "# entmax-perf:\n",
    "#       size     Triton       Torch\n",
    "# 0   4096.0   3.670016   42.532352\n",
    "# 1   8192.0  11.853824   83.594242\n",
    "# 2  16384.0  21.031937  131.547653"
   ]
  }
 ],
 "metadata": {
  "kernelspec": {
   "display_name": "Python 3 (ipykernel)",
   "language": "python",
   "name": "python3"
  },
  "language_info": {
   "codemirror_mode": {
    "name": "ipython",
    "version": 3
   },
   "file_extension": ".py",
   "mimetype": "text/x-python",
   "name": "python",
   "nbconvert_exporter": "python",
   "pygments_lexer": "ipython3",
   "version": "3.10.12"
  }
 },
 "nbformat": 4,
 "nbformat_minor": 5
}
