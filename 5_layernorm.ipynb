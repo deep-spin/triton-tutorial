{
 "cells": [
  {
   "cell_type": "code",
   "execution_count": null,
   "id": "aafea1b4-48b8-4477-9bd9-821bc9a0221e",
   "metadata": {},
   "outputs": [],
   "source": [
    "from setup_triton import setup_triton\n",
    "\n",
    "# TRITON_INTERPRET=1 uses a python interpreter instead of running on the GPU. \n",
    "# This menas that uou can insert Python breakpoints to debug your kernel code! \n",
    "setup_triton(use_interpreter=True)"
   ]
  },
  {
   "cell_type": "markdown",
   "id": "a9a2b651-1e26-4509-b420-69e75ecc5c5c",
   "metadata": {},
   "source": [
    "# Triton Puzzle 5: Layer Normalization\n",
    "\n",
    "Welcome to the fifth Triton puzzle! Layer Normalization is a crucial component in modern deep learning, especially in transformers. This puzzle introduces parallel reduction patterns and online algorithms.\n",
    "\n",
    "\n",
    "## Mathematical Background\n",
    "\n",
    "Layer Normalization normalizes inputs across the feature dimension:\n",
    "\n",
    "Given input $\\mathbf{x} \\in \\mathbb{R}^{N \\times D}$ (batch size N, feature dimension D):\n",
    "\n",
    "$\\text{LayerNorm}(\\mathbf{x}_i) = \\gamma \\odot \\frac{\\mathbf{x}_i - \\mu_i}{\\sqrt{\\sigma_i^2 + \\epsilon}} + \\beta$\n",
    "\n",
    "Where for each sample $i$:\n",
    "- $\\mu_i = \\frac{1}{D} \\sum_{j=1}^{D} x_{ij}$ (mean across features)\n",
    "- $\\sigma_i^2 = \\frac{1}{D} \\sum_{j=1}^{D} (x_{ij} - \\mu_i)^2$ (variance across features)\n",
    "- $\\gamma, \\beta \\in \\mathbb{R}^D$ are learned scale and shift parameters\n",
    "- $\\epsilon$ is a small constant for numerical stability\n",
    "\n",
    "\n",
    "### The Reduction Challenge\n",
    "\n",
    "Unlike our previous operations, LayerNorm requires **reduction** across the feature dimension:\n",
    "- Each thread needs information from ALL features to compute statistics\n",
    "- Can't process each element independently\n",
    "- Need efficient parallel reduction algorithms\n"
   ]
  },
  {
   "cell_type": "code",
   "execution_count": null,
   "id": "da25f5ba-bf33-4e18-a111-7a8092974e75",
   "metadata": {},
   "outputs": [],
   "source": [
    "import torch\n",
    "import triton\n",
    "import triton.language as tl\n",
    "import numpy as np\n",
    "from IPython.display import display, Image\n",
    "\n",
    "DEVICE = 'cuda' if torch.cuda.is_available() else 'cpu'\n",
    "print(f\"Using device: {DEVICE}\")\n",
    "\n",
    "# Set random seed\n",
    "torch.manual_seed(42)"
   ]
  },
  {
   "cell_type": "markdown",
   "id": "5d0de40a-da8a-4528-b6b5-f9bf8cd5f335",
   "metadata": {},
   "source": [
    "## Implementation 1: Naive PyTorch (Two-pass)\n",
    "\n",
    "First, let's see a straightforward two-pass implementation:"
   ]
  },
  {
   "cell_type": "code",
   "execution_count": null,
   "id": "da02799f-610f-4d64-9c14-1487da1bb71a",
   "metadata": {},
   "outputs": [],
   "source": [
    "def layernorm_naive(x, weight, bias, eps=1e-5):\n",
    "    \"\"\"\n",
    "    Naive two-pass implementation of LayerNorm.\n",
    "    First pass: compute mean\n",
    "    Second pass: compute variance\n",
    "    Third pass: normalize\n",
    "    \"\"\"\n",
    "    # Assume x is (N, D) where we normalize over D\n",
    "    mean = x.mean(dim=-1, keepdim=True)  # (N, 1)\n",
    "    var = ((x - mean) ** 2).mean(dim=-1, keepdim=True)  # (N, 1)\n",
    "    std = torch.sqrt(var + eps)\n",
    "    # Normalize\n",
    "    x_norm = (x - mean) / std\n",
    "    # Scale and shift\n",
    "    return weight * x_norm + bias"
   ]
  },
  {
   "cell_type": "markdown",
   "id": "3c6a9d98-f3c1-4e7e-b97f-c048bf857bb8",
   "metadata": {},
   "source": [
    "## Implementation 2: PyTorch Built-in\n",
    "\n",
    "PyTorch's built-in uses optimized CUDA kernels:\n"
   ]
  },
  {
   "cell_type": "code",
   "execution_count": null,
   "id": "2ec04249-5be4-4cc5-a47a-0ce84f05907d",
   "metadata": {},
   "outputs": [],
   "source": [
    "def layernorm_pytorch(x, weight, bias, eps=1e-5):\n",
    "    \"\"\"PyTorch's built-in LayerNorm.\"\"\"\n",
    "    return torch.nn.functional.layer_norm(x, x.shape[-1:], weight, bias, eps)"
   ]
  },
  {
   "cell_type": "markdown",
   "id": "c0c6a240-51a3-4b6a-838b-b174cb09e392",
   "metadata": {},
   "source": [
    "## Implementation 3: PyTorch Compiled\n",
    "\n",
    "Let's try to compile a naive version:"
   ]
  },
  {
   "cell_type": "code",
   "execution_count": null,
   "id": "e701a775-0cf2-4902-a003-31a757112fe8",
   "metadata": {},
   "outputs": [],
   "source": [
    "@torch.compile\n",
    "def layernorm_compiled(x, weight, bias, eps=1e-5):\n",
    "    mean = x.mean(dim=-1, keepdim=True)  # (N, 1)\n",
    "    var = ((x - mean) ** 2).mean(dim=-1, keepdim=True)  # (N, 1)\n",
    "    std = torch.sqrt(var + eps)\n",
    "    x_norm = (x - mean) / std\n",
    "    return weight * x_norm + bias"
   ]
  },
  {
   "cell_type": "markdown",
   "id": "add58259-5750-4fd7-83fb-1256d8f98129",
   "metadata": {},
   "source": [
    "## Key Concepts for This Puzzle\n",
    "\n",
    "### 1. Parallel Reduction in Triton\n",
    "\n",
    "Triton provides `tl.reduce` for efficient reduction operations:\n",
    "\n",
    "```python\n",
    "# Sum reduction along axis 0\n",
    "sum_val = tl.sum(data, axis=0)\n",
    "\n",
    "# You can also use tl.reduce with custom operations\n",
    "mean_val = tl.sum(data, axis=0) / num_elements\n",
    "```\n",
    "\n",
    "### 2. Single-Pass Algorithm\n",
    "\n",
    "- Pass 1: Compute mean\n",
    "- Pass 2: Compute variance using mean\n",
    "- Pass 3: Normalize\n",
    "\n",
    "\n",
    "### 3. Block Size Considerations\n",
    "\n",
    "- Each program handles one sample (row)\n",
    "- Block size should be large enough to process all features\n",
    "- Need to handle cases where D > BLOCK_SIZE"
   ]
  },
  {
   "cell_type": "markdown",
   "id": "0e84fbdb-b395-43f8-9460-212709c3187f",
   "metadata": {},
   "source": [
    "## Implementation 4: Triton Kernel (Puzzle)\n",
    "\n",
    "Now, let's implement LayerNorm in Triton!\n",
    "\n",
    "### Your Task:\n",
    "1. Each program handles one sample (row)\n",
    "2. Load features in blocks\n",
    "3. Compute mean using `tl.sum`\n",
    "4. Compute variance (in the same pass if possible)\n",
    "5. Normalize and apply scale/shift\n",
    "6. Handle cases where feature dimension > BLOCK_SIZE"
   ]
  },
  {
   "cell_type": "code",
   "execution_count": null,
   "id": "f4785306-11f2-45c0-82fe-933a80080c8d",
   "metadata": {},
   "outputs": [],
   "source": [
    "@triton.jit\n",
    "def layernorm_kernel(\n",
    "    x_ptr, y_ptr, weight_ptr, bias_ptr,\n",
    "    N, D,  # N = batch size, D = feature dimension\n",
    "    eps: tl.constexpr,\n",
    "    BLOCK_SIZE: tl.constexpr\n",
    "):\n",
    "    \"\"\"\n",
    "    LayerNorm kernel where each program handles one sample.\n",
    "    \n",
    "    Key challenges:\n",
    "    - Compute mean and variance across D dimension\n",
    "    - Handle D > BLOCK_SIZE by looping\n",
    "    - Maintain numerical stability\n",
    "    \"\"\"\n",
    "    # YOUR IMPLEMENTATION GOES HERE\n",
    "    # Hints:\n",
    "    # 1. Use tl.program_id(0) to get which sample this program handles\n",
    "    # 2. Loop over features in blocks of BLOCK_SIZE\n",
    "    # 3. Accumulate sum and sum of squares for mean/variance\n",
    "    # 4. After computing statistics, loop again to normalize\n",
    "    # 5. Don't forget to apply weight and bias!\n",
    "    pass\n",
    "\n",
    "\n",
    "def layernorm_triton(x, weight, bias, eps=1e-5):\n",
    "    \"\"\"Wrapper for the Triton LayerNorm kernel.\"\"\"\n",
    "    assert x.is_contiguous()\n",
    "    assert weight.is_contiguous() \n",
    "    assert bias.is_contiguous()\n",
    "    \n",
    "    N, D = x.shape\n",
    "    \n",
    "    # Allocate output\n",
    "    y = torch.empty_like(x)\n",
    "    \n",
    "    # Choose block size (must be power of 2)\n",
    "    BLOCK_SIZE = triton.next_power_of_2(min(D, 1024))\n",
    "    \n",
    "    # Launch grid: one program per sample\n",
    "    grid = (N,)\n",
    "    \n",
    "    # Launch kernel\n",
    "    layernorm_kernel[grid](\n",
    "        x, y, weight, bias,\n",
    "        N, D,\n",
    "        eps,\n",
    "        BLOCK_SIZE\n",
    "    )\n",
    "    \n",
    "    return y"
   ]
  },
  {
   "cell_type": "markdown",
   "id": "cc3cd4f6-4c6d-442f-b335-f7c3fe0e8521",
   "metadata": {},
   "source": [
    "## Solution 🧙\n",
    "\n",
    "You shall not pass!"
   ]
  },
  {
   "cell_type": "code",
   "execution_count": null,
   "id": "83f5b132-fe67-49df-bdd1-b658fc36f756",
   "metadata": {},
   "outputs": [],
   "source": [
    "# Our solution goes here"
   ]
  },
  {
   "cell_type": "markdown",
   "id": "dcd1e0d8-5e2e-4a82-830b-a9a99e4f93ed",
   "metadata": {},
   "source": [
    "> **Note:** For better performance, there are more efficient algorithms (Welford's algorithm), which computes mean and variance in a single-pass. But, we won't cover here because it is out of the scope of this tutorial."
   ]
  },
  {
   "cell_type": "markdown",
   "id": "b6dc668c-7b28-4281-a243-4407bcfafdf2",
   "metadata": {},
   "source": [
    "## Testing Correctness\n",
    "\n",
    "Let's verify our implementation:"
   ]
  },
  {
   "cell_type": "code",
   "execution_count": null,
   "id": "55b9732b-fe80-4682-ac7d-eb2c7d226896",
   "metadata": {},
   "outputs": [],
   "source": [
    "def test_correctness(N=32, D=256, eps=1e-5, atol=1e-3, rtol=1e-3):\n",
    "    \"\"\"Test if Triton implementation matches PyTorch.\"\"\"\n",
    "    torch.manual_seed(42)\n",
    "    \n",
    "    # Create test inputs\n",
    "    x = torch.randn(N, D, device=DEVICE, dtype=torch.float32)\n",
    "    weight = torch.randn(D, device=DEVICE, dtype=torch.float32)\n",
    "    bias = torch.randn(D, device=DEVICE, dtype=torch.float32)\n",
    "    \n",
    "    # Compute with PyTorch\n",
    "    expected = layernorm_pytorch(x, weight, bias, eps)\n",
    "    \n",
    "    # Compute with Triton\n",
    "    actual = layernorm_triton(x, weight, bias, eps)\n",
    "    \n",
    "    try:\n",
    "        torch.testing.assert_close(actual, expected, atol=atol, rtol=rtol)\n",
    "        print(f\"✅ Test PASSED! Results match within tolerance.\")\n",
    "        print(f\"   Shape: ({N}, {D})\")\n",
    "        print(f\"   Max absolute difference: {(actual - expected).abs().max().item():.2e}\")\n",
    "        \n",
    "        # Test edge cases\n",
    "        test_cases = [\n",
    "            (1, 1024),    # Single sample\n",
    "            (128, 64),    # Small features\n",
    "            (64, 2048),   # Large features\n",
    "        ]\n",
    "        \n",
    "        for n, d in test_cases:\n",
    "            x_test = torch.randn(n, d, device=DEVICE, dtype=torch.float32)\n",
    "            w_test = torch.randn(d, device=DEVICE, dtype=torch.float32)\n",
    "            b_test = torch.randn(d, device=DEVICE, dtype=torch.float32)\n",
    "            \n",
    "            expected_test = layernorm_pytorch(x_test, w_test, b_test, eps)\n",
    "            actual_test = layernorm_triton(x_test, w_test, b_test, eps)\n",
    "            \n",
    "            torch.testing.assert_close(actual_test, expected_test, atol=atol, rtol=rtol)\n",
    "            print(f\"✅ Size ({n}, {d}) PASSED!\")\n",
    "        \n",
    "        return True\n",
    "        \n",
    "    except AssertionError as e:\n",
    "        print(f\"❌ Test FAILED!\")\n",
    "        print(f\"   Error: {e}\")\n",
    "        return False\n",
    "\n",
    "# Run tests\n",
    "test_passed = test_correctness()\n",
    "\n",
    "# Display congrats message\n",
    "if test_passed:\n",
    "    print(\"\\n🎉 Congratulations! Your implementation is correct!\")\n",
    "    display(Image(\"figs/success.gif\", width=256, height=256))"
   ]
  },
  {
   "cell_type": "markdown",
   "id": "585e507a-6cd2-46b6-a246-c88d925949bc",
   "metadata": {},
   "source": [
    "## Summary\n",
    "\n",
    "You've successfully implemented LayerNorm, mastering several advanced concepts!\n",
    "\n",
    "### Key Concepts Mastered:\n",
    "\n",
    "1. **Parallel Reduction**: Computing statistics across a dimension\n",
    "2. **Multi-pass vs Single-pass**: Trade-offs between simplicity and efficiency\n",
    "3. **Numerical Stability**: Handling variance computation carefully\n",
    "4. **Variable-length Processing**: Using masks for features > BLOCK_SIZE\n",
    "5. **Memory Efficiency**: Minimizing passes over data\n",
    "\n",
    "\n",
    "### Next Steps:\n",
    "\n",
    "Ready for CrossEntropy Loss? The final puzzle introduces:\n",
    "- Fusing the output layer\n",
    "- Dealing with high dimensionality\n",
    "- Integrating Triton & PyTorch\n",
    "\n",
    "Let's continue with our Triton journey!\n",
    "\n",
    "<img src=\"figs/sardine-challenge.png\" width=\"512\" />"
   ]
  },
  {
   "cell_type": "markdown",
   "id": "0931abea-55e4-4a94-a8a3-3635ea58924a",
   "metadata": {},
   "source": [
    "---\n",
    "\n",
    "## Benchmarking (GPU only)\n",
    "\n",
    "Now let's benchmark the implementations:"
   ]
  },
  {
   "cell_type": "code",
   "execution_count": null,
   "id": "b3ca8820-12ec-4224-a0b5-725dfe4a75f8",
   "metadata": {},
   "outputs": [],
   "source": [
    "@triton.testing.perf_report(\n",
    "    triton.testing.Benchmark(\n",
    "        x_names=['D'],  # Feature dimension\n",
    "        x_vals=[128, 256, 512, 768, 1024, 2048, 4096],\n",
    "        line_arg='provider',\n",
    "        line_vals=['pytorch', 'compile', 'triton'],\n",
    "        line_names=['PyTorch', 'torch.compile', 'Triton'],\n",
    "        styles=[('green', '-'), ('red', '--'), ('blue', '-.')],\n",
    "        ylabel='GB/s',\n",
    "        plot_name='layernorm-performance',\n",
    "        args={'N': 1024},  # Batch size\n",
    "    )\n",
    ")\n",
    "def benchmark(D, N, provider):\n",
    "    \"\"\"Benchmark LayerNorm.\"\"\"\n",
    "    x = torch.randn(N, D, device=DEVICE, dtype=torch.float32)\n",
    "    weight = torch.randn(D, device=DEVICE, dtype=torch.float32)\n",
    "    bias = torch.randn(D, device=DEVICE, dtype=torch.float32)\n",
    "    \n",
    "    quantiles = [0.5, 0.05, 0.95]\n",
    "    \n",
    "    if provider == 'pytorch':\n",
    "        ms, min_ms, max_ms = triton.testing.do_bench(\n",
    "            lambda: layernorm_pytorch(x, weight, bias), quantiles=quantiles\n",
    "        )\n",
    "    elif provider == 'compile':\n",
    "        ms, min_ms, max_ms = triton.testing.do_bench(\n",
    "            lambda: layernorm_compiled(x, weight, bias), quantiles=quantiles\n",
    "        )\n",
    "    elif provider == 'triton':\n",
    "        ms, min_ms, max_ms = triton.testing.do_bench(\n",
    "            lambda: layernorm_triton(x, weight, bias), quantiles=quantiles\n",
    "        )\n",
    "    \n",
    "    # Calculate bandwidth\n",
    "    bytes_moved = x.numel() * x.element_size() * 2  # Read + write\n",
    "    bytes_moved += weight.numel() * weight.element_size() * N  # Weight read N times\n",
    "    bytes_moved += bias.numel() * bias.element_size() * N  # Bias read N times\n",
    "    \n",
    "    gb_per_s = lambda ms: bytes_moved / ms / 1e6\n",
    "    \n",
    "    return gb_per_s(ms), gb_per_s(max_ms), gb_per_s(min_ms)\n",
    "\n",
    "print(\"Running benchmarks...\")\n",
    "results = benchmark.run(show_plots=True, print_data=True, return_df=True, save_path='')"
   ]
  },
  {
   "cell_type": "markdown",
   "id": "7832974a-f51e-4769-8238-e8a04b62719b",
   "metadata": {},
   "source": [
    "## Speedup?"
   ]
  },
  {
   "cell_type": "code",
   "execution_count": null,
   "id": "5e3ed33c-48fe-4bf0-b6f8-6392eb5bd290",
   "metadata": {},
   "outputs": [],
   "source": [
    "# Check if Triton is faster than PyTorch\n",
    "avg_pytorch = results['PyTorch'].mean()\n",
    "avg_triton = results['Triton'].mean()\n",
    "speedup = avg_triton / avg_pytorch\n",
    "\n",
    "if speedup > 1.0:\n",
    "    print(f\"\\n🚀 Awesome! Triton is {speedup:.2f}x faster than PyTorch!\")\n",
    "    display(Image(\"figs/gpu.gif\", width=400, height=256))\n",
    "else:\n",
    "    print(f\"\\n🐌 Not quite yet! Triton implementation is {speedup:.2f}x slower than PyTorch!\")"
   ]
  },
  {
   "cell_type": "code",
   "execution_count": null,
   "id": "6958c4a9-e81b-4bdc-92ad-15d523d0a24f",
   "metadata": {},
   "outputs": [],
   "source": []
  }
 ],
 "metadata": {
  "kernelspec": {
   "display_name": "Python 3 (ipykernel)",
   "language": "python",
   "name": "python3"
  },
  "language_info": {
   "codemirror_mode": {
    "name": "ipython",
    "version": 3
   },
   "file_extension": ".py",
   "mimetype": "text/x-python",
   "name": "python",
   "nbconvert_exporter": "python",
   "pygments_lexer": "ipython3",
   "version": "3.13.2"
  }
 },
 "nbformat": 4,
 "nbformat_minor": 5
}
